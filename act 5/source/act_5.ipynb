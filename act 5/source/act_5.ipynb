{
 "cells": [
  {
   "cell_type": "markdown",
   "id": "a15e247a",
   "metadata": {},
   "source": [
    "# Actividad 5 | Actividad de visualización de resultados\n",
    "---"
   ]
  },
  {
   "cell_type": "markdown",
   "id": "9d06f767",
   "metadata": {},
   "source": [
    "**MAESTRÍA EN INTELIGENCIA ARTIFICIAL APLICADA**\n",
    "\n",
    "**Curso: TC4034.10 - Análisis de grandes volúmenes de datos**\n",
    "\n",
    "Tecnológico de Monterrey\n",
    "\n",
    "* Dr. Iván Olmos Pineda\n",
    "* Mtra. Verónica Sandra Guzmán de Valle\n",
    "* Mtro. Alberto Daniel Salinas Montemayor\n",
    "\n",
    "---"
   ]
  },
  {
   "cell_type": "markdown",
   "id": "9627f476",
   "metadata": {},
   "source": [
    "**Equipo 37**\n",
    "\n",
    "|  NOMBRE COMPLETO                        |     MATRÍCULA     |\n",
    "| :-------------------------------------: |:-----------------:|\n",
    "| Alejandro Díaz Villagómez               |  A01276769        |\n",
    "| Alonso Pedrero Martínez                 |  A01769076        |\n",
    "| César Iván Pedrero Martínez             |  A01366501        |\n",
    "| Emiliano Saucedo Arriola                |  A01659258        |"
   ]
  },
  {
   "cell_type": "code",
   "execution_count": 1,
   "id": "47c68fe5",
   "metadata": {},
   "outputs": [],
   "source": [
    "import findspark\n",
    "from pyspark.sql import SparkSession, functions as F\n",
    "from pyspark.sql.functions import col, isnan, when, count\n",
    "from pyspark.sql.types import StringType, DoubleType, FloatType\n",
    "import findspark\n",
    "\n",
    "from pyspark.ml import Pipeline\n",
    "from pyspark.ml.feature import StringIndexer, VectorAssembler, StandardScaler\n",
    "from pyspark.ml.classification import LogisticRegression\n",
    "from pyspark.ml.evaluation import BinaryClassificationEvaluator\n",
    "from pyspark.ml.tuning import ParamGridBuilder, CrossValidator\n",
    "\n",
    "import pandas as pd\n",
    "from os import path\n",
    "\n",
    "from sklearn.metrics import roc_curve, auc, confusion_matrix, ConfusionMatrixDisplay\n",
    "import matplotlib.pyplot as plt\n",
    "\n",
    "from functools import reduce\n",
    "from pyspark.sql import DataFrame\n",
    "\n",
    "import seaborn as sns\n",
    "import matplotlib.pyplot as plt"
   ]
  },
  {
   "cell_type": "code",
   "execution_count": 2,
   "id": "56bf7ad7",
   "metadata": {},
   "outputs": [
    {
     "data": {
      "text/plain": [
       "'/Users/alonsopedreromartinez/Documents/GitHub/big_data/act 4/act_4_big_data/lib/python3.12/site-packages/pyspark'"
      ]
     },
     "execution_count": 2,
     "metadata": {},
     "output_type": "execute_result"
    }
   ],
   "source": [
    "findspark.init()\n",
    "findspark.find()"
   ]
  },
  {
   "cell_type": "code",
   "execution_count": 3,
   "id": "d1d76b66",
   "metadata": {},
   "outputs": [
    {
     "name": "stderr",
     "output_type": "stream",
     "text": [
      "WARNING: Using incubator modules: jdk.incubator.vector\n",
      "Using Spark's default log4j profile: org/apache/spark/log4j2-defaults.properties\n",
      "Setting default log level to \"WARN\".\n",
      "To adjust logging level use sc.setLogLevel(newLevel). For SparkR, use setLogLevel(newLevel).\n",
      "25/06/17 22:07:29 WARN NativeCodeLoader: Unable to load native-hadoop library for your platform... using builtin-java classes where applicable\n"
     ]
    },
    {
     "data": {
      "text/html": [
       "\n",
       "            <div>\n",
       "                <p><b>SparkSession - in-memory</b></p>\n",
       "                \n",
       "        <div>\n",
       "            <p><b>SparkContext</b></p>\n",
       "\n",
       "            <p><a href=\"http://192.168.1.6:4040\">Spark UI</a></p>\n",
       "\n",
       "            <dl>\n",
       "              <dt>Version</dt>\n",
       "                <dd><code>v4.0.0</code></dd>\n",
       "              <dt>Master</dt>\n",
       "                <dd><code>local[*]</code></dd>\n",
       "              <dt>AppName</dt>\n",
       "                <dd><code>pyspark-shell</code></dd>\n",
       "            </dl>\n",
       "        </div>\n",
       "        \n",
       "            </div>\n",
       "        "
      ],
      "text/plain": [
       "<pyspark.sql.session.SparkSession at 0x127a9f4d0>"
      ]
     },
     "execution_count": 3,
     "metadata": {},
     "output_type": "execute_result"
    }
   ],
   "source": [
    "spark = SparkSession.builder.master(\"local[*]\").getOrCreate()\n",
    "spark.conf.set(\"spark.sql.repl.eagerEval.enabled\", True)\n",
    "\n",
    "spark"
   ]
  },
  {
   "cell_type": "code",
   "execution_count": 4,
   "id": "4910d75c",
   "metadata": {},
   "outputs": [],
   "source": [
    "PATH = \"../files\"\n",
    "FILE = \"amazon_electronics.csv\""
   ]
  },
  {
   "cell_type": "code",
   "execution_count": 5,
   "id": "1d85f9c3",
   "metadata": {},
   "outputs": [],
   "source": [
    "class FileManager():\n",
    "    @staticmethod\n",
    "    def open_csv_file(input_path : str, file_name : str):\n",
    "        \"\"\"\n",
    "        This method opens a csv file with pyspark\n",
    "        \"\"\"\n",
    "        csv_df = spark.read.csv(\n",
    "            path.join(input_path, file_name),\n",
    "            header=True,\n",
    "            inferSchema=True,\n",
    "            multiLine=True,\n",
    "            escape=\"\\\"\",\n",
    "            quote=\"\\\"\"\n",
    "        )\n",
    "\n",
    "        csv_df.show(truncate=20)\n",
    "\n",
    "        return csv_df"
   ]
  },
  {
   "cell_type": "code",
   "execution_count": 6,
   "id": "1ac930c9",
   "metadata": {},
   "outputs": [
    {
     "name": "stderr",
     "output_type": "stream",
     "text": [
      "                                                                                \r"
     ]
    },
    {
     "name": "stdout",
     "output_type": "stream",
     "text": [
      "+-----------+-----------+--------------+----------+--------------+--------------------+----------------+-----------+-------------+-----------+----+-----------------+--------------------+--------------------+-----------+---------+\n",
      "|marketplace|customer_id|     review_id|product_id|product_parent|       product_title|product_category|star_rating|helpful_votes|total_votes|vine|verified_purchase|     review_headline|         review_body|review_date|sentiment|\n",
      "+-----------+-----------+--------------+----------+--------------+--------------------+----------------+-----------+-------------+-----------+----+-----------------+--------------------+--------------------+-----------+---------+\n",
      "|         US|   22873041|R3ARRMDEGED8RD|B00KJWQIIC|     335625766|Plemo 14-Inch Lap...|              PC|          5|            0|          0|   N|                Y|Pleasantly surprised|I was very surpri...| 2015-08-31|        1|\n",
      "|         US|   30088427| RQ28TSA020Y6J|B013ALA9LA|     671157305|TP-Link OnHub AC1...|              PC|          5|           24|         31|   N|                N|OnHub is a pretty...|I am a Google emp...| 2015-08-31|        1|\n",
      "|         US|   20329786| RUXJRZCT6953M|B00PML2GQ8|     982036237|AmazonBasics USB ...|              PC|          1|            2|          2|   N|                N|None of them work...|Bought cables in ...| 2015-08-31|        0|\n",
      "|         US|   14215710| R7EO0UO6BPB71|B001NS0OZ4|     576587596|Transcend P8 15-i...|              PC|          1|            0|          0|   N|                Y|just keep searching.|nope, cheap and slow| 2015-08-31|        0|\n",
      "|         US|   38264512|R39NJY2YJ1JFSV|B00AQMTND2|     964759214|Aleratec SATA Dat...|              PC|          5|            0|          0|   N|                Y|          Five Stars|Excellent! Great ...| 2015-08-31|        1|\n",
      "|         US|   30548466|R31SR7REWNX7CF|B00KX4TORI|     170101802|Kingston Digital ...|              PC|          5|            0|          0|   N|                Y|Good quality, wor...|Good quality,work...| 2015-08-31|        1|\n",
      "|         US|     589298| RVBP8I1R0CTZ8|B00P17WEMY|     206124740|White 9 Inch Unlo...|              PC|          3|            1|          2|   N|                Y|in fact this is t...|This demn tablet ...| 2015-08-31|        0|\n",
      "|         US|   49329488|R1QF6RS1PDLU18|B00TR05L9Y|     778403103|Lenovo TAB2 A10 -...|              PC|          4|            1|          1|   N|                Y|                Good|I am not sure I d...| 2015-08-31|        1|\n",
      "|         US|   50728290|R23AICGEDAJQL1|B0098Y77OG|     177098042|                Acer|              PC|          1|            0|          0|   N|                Y|You get what you ...|After exactly 45 ...| 2015-08-31|        0|\n",
      "|         US|   37802374|R2EY3N4K9W19UP|B00IFYEYXC|     602496520|AzureWave Broadco...|              PC|          5|            3|          4|   N|                Y|Great for Windows...|Replaced my Intel...| 2015-08-31|        1|\n",
      "|         US|   52027882| RC9AW4HKJ016M|B0091ITP0S|     977217357|HDE Rotating iPad...|              PC|          1|            0|          0|   N|                Y|            One Star|IT HAS ALREADY CR...| 2015-08-31|        0|\n",
      "|         US|   41770239|R2ALWJE9N6ZBXD|B008I21EA2|     295632907|Linksys AC1750 Wi...|              PC|          1|            0|          0|   N|                N|   Very Disappointed|Very disappointed...| 2015-08-31|        0|\n",
      "|         US|   42560427|R2G5FPA4OX37GV|B00MRB7SBO|     922591915|iPad Pro 9.7, iPa...|              PC|          5|            1|          1|   N|                Y|          Five Stars|Works well. I use...| 2015-08-31|        1|\n",
      "|         US|   46345923|R1IKTSEVXSIMOD|B00LLER2CS|     997551273|SanDisk 16GB CZ43...|              PC|          5|            0|          0|   N|                Y|The encryption so...|The encryption so...| 2015-08-31|        1|\n",
      "|         US|   41751192|R2YA6G6SRFEWF6|B00B0CQCCC|     937999925|TRENDnet Wireless...|              PC|          1|            0|          1|   N|                Y|Didn't last 2 years.|I have owned this...| 2015-08-31|        0|\n",
      "|         US|   21176481| RS9H1N9I3Z1IA|B00GU8W5AE|      13865167|Redragon M901 PER...|              PC|          5|            0|          0|   N|                Y|Awesome gaming mouse|My first gaming m...| 2015-08-31|        1|\n",
      "|         US|   10674058| RKKLBI76VTDNT|B00XHMXJQ0|     967483469|Mudder MHL Adapte...|              PC|          1|            0|          0|   N|                Y|            One Star|I cannot get it t...| 2015-08-31|        0|\n",
      "|         US|   43341796|R2NJ3WFUS4E5G6|B00YGJJQ6U|     986548413|Fintie iPad Air 2...|              PC|          4|            0|          0|   N|                Y|Great choices of ...|Love that Finite ...| 2015-08-31|        1|\n",
      "|         US|   13232866|R21PTQNLGCBN0I|B00XMN20Y6|     873354048|Fintie iPad 2/3/4...|              PC|          5|            0|          0|   N|                Y|          Five Stars|Nice color, I lov...| 2015-08-31|        1|\n",
      "|         US|   29333557|R3G4RT3EQ9RSY7|B00MA40W9I|     535866197|Egoway® New Lapto...|              PC|          1|            0|          0|   N|                Y|Totally wasted $6...|Totally wasted $6...| 2015-08-31|        0|\n",
      "+-----------+-----------+--------------+----------+--------------+--------------------+----------------+-----------+-------------+-----------+----+-----------------+--------------------+--------------------+-----------+---------+\n",
      "only showing top 20 rows\n"
     ]
    }
   ],
   "source": [
    "df_reviews = FileManager.open_csv_file(PATH, FILE)"
   ]
  },
  {
   "cell_type": "code",
   "execution_count": 7,
   "id": "4e39c0de",
   "metadata": {},
   "outputs": [],
   "source": [
    "# Previously defined relevant columns for the activity.\n",
    "RELEVANT_COLUMNS_FOR_CHARACTERIZATION = [\n",
    "  \"star_rating\",\n",
    "  \"helpful_votes\",\n",
    "  \"total_votes\",\n",
    "  \"vine\",\n",
    "  \"verified_purchase\",\n",
    "  \"review_date\",\n",
    "  \"sentiment\"\n",
    "]"
   ]
  },
  {
   "cell_type": "code",
   "execution_count": 8,
   "id": "cd7e3844",
   "metadata": {},
   "outputs": [],
   "source": [
    "df_reviews_filtered = df_reviews.select(*RELEVANT_COLUMNS_FOR_CHARACTERIZATION)"
   ]
  },
  {
   "cell_type": "code",
   "execution_count": 9,
   "id": "ad608743",
   "metadata": {},
   "outputs": [],
   "source": [
    "class PartitioningManager:\n",
    "\n",
    "    @staticmethod\n",
    "    def compute_probabilities(df, cols):\n",
    "        \"\"\"\n",
    "        Computes and returns the probability of each combination of values in the specified columns.\n",
    "        \"\"\"\n",
    "        total_count = df.count()\n",
    "        return df.groupBy(cols).count() \\\n",
    "                 .withColumn(\"probability\", F.round(F.col(\"count\") / total_count, 6)) \\\n",
    "                 .orderBy(\"probability\", ascending=False)\n",
    "\n",
    "    @staticmethod\n",
    "    def filter_partition(df, star_rating, verified_purchase, vine):\n",
    "        \"\"\"\n",
    "        Filters the DataFrame by specific values for rating, verified purchase, and vine.\n",
    "        \"\"\"\n",
    "        return df.filter(\n",
    "            (F.col(\"star_rating\") == star_rating) &\n",
    "            (F.col(\"verified_purchase\") == verified_purchase) &\n",
    "            (F.col(\"vine\") == vine)\n",
    "        )\n",
    "\n",
    "    @staticmethod\n",
    "    def generate_all_partitions(df, min_probability=0.0001):\n",
    "        \"\"\"\n",
    "        Generates partitions only for combinations whose joint probability is above min_probability.\n",
    "        \"\"\"\n",
    "\n",
    "        prob_df = PartitioningManager.compute_probabilities(\n",
    "            df, [\"star_rating\", \"verified_purchase\", \"vine\"]\n",
    "        )\n",
    "\n",
    "        filtered_combinations = prob_df.filter(\n",
    "            F.col(\"probability\") >= min_probability\n",
    "        ).select(\"star_rating\", \"verified_purchase\", \"vine\").collect()\n",
    "\n",
    "        partitions = {}\n",
    "        for row in filtered_combinations:\n",
    "            rating = row[\"star_rating\"]\n",
    "            purchase = row[\"verified_purchase\"]\n",
    "            vine = row[\"vine\"]\n",
    "\n",
    "            key = f\"R{rating}_VP{purchase}_V{vine}\"\n",
    "            filtered = PartitioningManager.filter_partition(df, rating, purchase, vine)\n",
    "            partitions[key] = filtered\n",
    "            print(f\"Partition {key} created with {filtered.count()} records.\")\n",
    "\n",
    "        return partitions\n",
    "\n",
    "    @staticmethod\n",
    "    def stratified_sample_partitioned_data(partitions_dict, label_col=\"sentiment\", fraction=0.3, min_rows=50):\n",
    "        \"\"\"\n",
    "        Applies stratified sampling to each partition based on sentiment.\n",
    "        \"\"\"\n",
    "        sampled_partitions = {}\n",
    "\n",
    "        for key, df in partitions_dict.items():\n",
    "            count = df.count()\n",
    "\n",
    "            if count < min_rows:\n",
    "                print(f\"Skipping partition {key} — only {count} rows (<{min_rows})\")\n",
    "                continue\n",
    "\n",
    "            sentiments = df.select(label_col).distinct().rdd.flatMap(lambda x: x).collect()\n",
    "            fractions = {s: fraction for s in sentiments}\n",
    "\n",
    "            sampled_df = df.sampleBy(label_col, fractions, seed=42)\n",
    "            sampled_partitions[key] = sampled_df\n",
    "            print(f\"Sampled {sampled_df.count()} rows from partition {key} (original: {count})\")\n",
    "\n",
    "        return sampled_partitions\n",
    "\n",
    "    @staticmethod\n",
    "    def build_combined_sample(partitions_sampled_dict):\n",
    "        \"\"\"\n",
    "        Unites all sampled partitions into a single DataFrame (M).\n",
    "        This helps reduce computational load while maintaining diversity.\n",
    "        \"\"\"\n",
    "        if not partitions_sampled_dict:\n",
    "            raise ValueError(\"No partitions provided for sample combination.\")\n",
    "\n",
    "        combined_df = None\n",
    "        for key, df in partitions_sampled_dict.items():\n",
    "            if combined_df is None:\n",
    "                combined_df = df\n",
    "            else:\n",
    "                combined_df = combined_df.union(df)\n",
    "            print(f\"Partition {key} added to the combined sample.\")\n",
    "\n",
    "        print(f\"Total records in combined sample: {combined_df.count()}\")\n",
    "        return combined_df\n"
   ]
  },
  {
   "cell_type": "code",
   "execution_count": 10,
   "id": "18dbca9a",
   "metadata": {},
   "outputs": [
    {
     "name": "stderr",
     "output_type": "stream",
     "text": [
      "                                                                                \r"
     ]
    },
    {
     "name": "stdout",
     "output_type": "stream",
     "text": [
      "Partition R5_VPY_VN created with 3679909 records.\n"
     ]
    },
    {
     "name": "stderr",
     "output_type": "stream",
     "text": [
      "                                                                                \r"
     ]
    },
    {
     "name": "stdout",
     "output_type": "stream",
     "text": [
      "Partition R4_VPY_VN created with 1019728 records.\n"
     ]
    },
    {
     "name": "stderr",
     "output_type": "stream",
     "text": [
      "                                                                                \r"
     ]
    },
    {
     "name": "stdout",
     "output_type": "stream",
     "text": [
      "Partition R1_VPY_VN created with 603371 records.\n"
     ]
    },
    {
     "name": "stderr",
     "output_type": "stream",
     "text": [
      "                                                                                \r"
     ]
    },
    {
     "name": "stdout",
     "output_type": "stream",
     "text": [
      "Partition R3_VPY_VN created with 443364 records.\n"
     ]
    },
    {
     "name": "stderr",
     "output_type": "stream",
     "text": [
      "                                                                                \r"
     ]
    },
    {
     "name": "stdout",
     "output_type": "stream",
     "text": [
      "Partition R5_VPN_VN created with 410073 records.\n"
     ]
    },
    {
     "name": "stderr",
     "output_type": "stream",
     "text": [
      "                                                                                \r"
     ]
    },
    {
     "name": "stdout",
     "output_type": "stream",
     "text": [
      "Partition R2_VPY_VN created with 300544 records.\n"
     ]
    },
    {
     "name": "stderr",
     "output_type": "stream",
     "text": [
      "                                                                                \r"
     ]
    },
    {
     "name": "stdout",
     "output_type": "stream",
     "text": [
      "Partition R1_VPN_VN created with 152779 records.\n"
     ]
    },
    {
     "name": "stderr",
     "output_type": "stream",
     "text": [
      "                                                                                \r"
     ]
    },
    {
     "name": "stdout",
     "output_type": "stream",
     "text": [
      "Partition R4_VPN_VN created with 135197 records.\n"
     ]
    },
    {
     "name": "stderr",
     "output_type": "stream",
     "text": [
      "                                                                                \r"
     ]
    },
    {
     "name": "stdout",
     "output_type": "stream",
     "text": [
      "Partition R3_VPN_VN created with 65398 records.\n"
     ]
    },
    {
     "name": "stderr",
     "output_type": "stream",
     "text": [
      "                                                                                \r"
     ]
    },
    {
     "name": "stdout",
     "output_type": "stream",
     "text": [
      "Partition R2_VPN_VN created with 59973 records.\n"
     ]
    },
    {
     "name": "stderr",
     "output_type": "stream",
     "text": [
      "                                                                                \r"
     ]
    },
    {
     "name": "stdout",
     "output_type": "stream",
     "text": [
      "Partition R5_VPN_VY created with 15604 records.\n"
     ]
    },
    {
     "name": "stderr",
     "output_type": "stream",
     "text": [
      "                                                                                \r"
     ]
    },
    {
     "name": "stdout",
     "output_type": "stream",
     "text": [
      "Partition R4_VPN_VY created with 13240 records.\n"
     ]
    },
    {
     "name": "stderr",
     "output_type": "stream",
     "text": [
      "                                                                                \r"
     ]
    },
    {
     "name": "stdout",
     "output_type": "stream",
     "text": [
      "Partition R3_VPN_VY created with 4886 records.\n"
     ]
    },
    {
     "name": "stderr",
     "output_type": "stream",
     "text": [
      "                                                                                \r"
     ]
    },
    {
     "name": "stdout",
     "output_type": "stream",
     "text": [
      "Partition R2_VPN_VY created with 1634 records.\n"
     ]
    },
    {
     "name": "stderr",
     "output_type": "stream",
     "text": [
      "                                                                                \r"
     ]
    },
    {
     "name": "stdout",
     "output_type": "stream",
     "text": [
      "Partition R1_VPN_VY created with 705 records.\n"
     ]
    },
    {
     "name": "stderr",
     "output_type": "stream",
     "text": [
      "[Stage 59:>                                                         (0 + 1) / 1]\r"
     ]
    },
    {
     "name": "stdout",
     "output_type": "stream",
     "text": [
      "Partition R5_VPY_VY created with 101 records.\n"
     ]
    },
    {
     "name": "stderr",
     "output_type": "stream",
     "text": [
      "                                                                                \r"
     ]
    }
   ],
   "source": [
    "partitions = PartitioningManager.generate_all_partitions(df_reviews, min_probability=0.00001)"
   ]
  },
  {
   "cell_type": "code",
   "execution_count": 11,
   "id": "8ec01c4b",
   "metadata": {},
   "outputs": [
    {
     "name": "stdout",
     "output_type": "stream",
     "text": [
      "+-----------+-----------+--------------+----------+--------------+--------------------+----------------+-----------+-------------+-----------+----+-----------------+--------------------+--------------------+-----------+---------+\n",
      "|marketplace|customer_id|     review_id|product_id|product_parent|       product_title|product_category|star_rating|helpful_votes|total_votes|vine|verified_purchase|     review_headline|         review_body|review_date|sentiment|\n",
      "+-----------+-----------+--------------+----------+--------------+--------------------+----------------+-----------+-------------+-----------+----+-----------------+--------------------+--------------------+-----------+---------+\n",
      "|         US|   49329488|R1QF6RS1PDLU18|B00TR05L9Y|     778403103|Lenovo TAB2 A10 -...|              PC|          4|            1|          1|   N|                Y|                Good|I am not sure I d...| 2015-08-31|        1|\n",
      "|         US|   43341796|R2NJ3WFUS4E5G6|B00YGJJQ6U|     986548413|Fintie iPad Air 2...|              PC|          4|            0|          0|   N|                Y|Great choices of ...|Love that Finite ...| 2015-08-31|        1|\n",
      "|         US|   12246861|R2WV71J88ERO3H|B00J082KFQ|      55148922|Case Logic BPCA-1...|              PC|          4|            0|          0|   N|                Y|  Slimmer laptop bag|This is pretty mu...| 2015-08-31|        1|\n",
      "|         US|   23531656|R1DG8L9CSXXPJK|B008IFXQFU|     422480840|TP- Link Wireless...|              PC|          4|            0|          0|   N|                Y|          Four Stars|It works for its ...| 2015-08-31|        1|\n",
      "|         US|   28827675|R1PHDY2F126NRD|B00MB80WE8|     763447327|Prontotec Axius N...|              PC|          4|            0|          0|   N|                Y|So affordable & w...|This was bought f...| 2015-08-31|        1|\n",
      "+-----------+-----------+--------------+----------+--------------+--------------------+----------------+-----------+-------------+-----------+----+-----------------+--------------------+--------------------+-----------+---------+\n",
      "only showing top 5 rows\n"
     ]
    }
   ],
   "source": [
    "# Sample of one of the generated partitions.\n",
    "partitions[\"R4_VPY_VN\"].show(5)"
   ]
  },
  {
   "cell_type": "code",
   "execution_count": 12,
   "id": "bcb6bc39",
   "metadata": {},
   "outputs": [
    {
     "name": "stderr",
     "output_type": "stream",
     "text": [
      "                                                                                \r"
     ]
    },
    {
     "name": "stdout",
     "output_type": "stream",
     "text": [
      "Sampled 3631 rows from partition R5_VPY_VN (original: 3679909)\n"
     ]
    },
    {
     "name": "stderr",
     "output_type": "stream",
     "text": [
      "                                                                                \r"
     ]
    },
    {
     "name": "stdout",
     "output_type": "stream",
     "text": [
      "Sampled 1038 rows from partition R4_VPY_VN (original: 1019728)\n"
     ]
    },
    {
     "name": "stderr",
     "output_type": "stream",
     "text": [
      "                                                                                \r"
     ]
    },
    {
     "name": "stdout",
     "output_type": "stream",
     "text": [
      "Sampled 627 rows from partition R1_VPY_VN (original: 603371)\n"
     ]
    },
    {
     "name": "stderr",
     "output_type": "stream",
     "text": [
      "                                                                                \r"
     ]
    },
    {
     "name": "stdout",
     "output_type": "stream",
     "text": [
      "Sampled 441 rows from partition R3_VPY_VN (original: 443364)\n"
     ]
    },
    {
     "name": "stderr",
     "output_type": "stream",
     "text": [
      "                                                                                \r"
     ]
    },
    {
     "name": "stdout",
     "output_type": "stream",
     "text": [
      "Sampled 391 rows from partition R5_VPN_VN (original: 410073)\n"
     ]
    },
    {
     "name": "stderr",
     "output_type": "stream",
     "text": [
      "                                                                                \r"
     ]
    },
    {
     "name": "stdout",
     "output_type": "stream",
     "text": [
      "Sampled 277 rows from partition R2_VPY_VN (original: 300544)\n"
     ]
    },
    {
     "name": "stderr",
     "output_type": "stream",
     "text": [
      "                                                                                \r"
     ]
    },
    {
     "name": "stdout",
     "output_type": "stream",
     "text": [
      "Sampled 148 rows from partition R1_VPN_VN (original: 152779)\n"
     ]
    },
    {
     "name": "stderr",
     "output_type": "stream",
     "text": [
      "                                                                                \r"
     ]
    },
    {
     "name": "stdout",
     "output_type": "stream",
     "text": [
      "Sampled 135 rows from partition R4_VPN_VN (original: 135197)\n"
     ]
    },
    {
     "name": "stderr",
     "output_type": "stream",
     "text": [
      "                                                                                \r"
     ]
    },
    {
     "name": "stdout",
     "output_type": "stream",
     "text": [
      "Sampled 67 rows from partition R3_VPN_VN (original: 65398)\n"
     ]
    },
    {
     "name": "stderr",
     "output_type": "stream",
     "text": [
      "                                                                                \r"
     ]
    },
    {
     "name": "stdout",
     "output_type": "stream",
     "text": [
      "Sampled 63 rows from partition R2_VPN_VN (original: 59973)\n"
     ]
    },
    {
     "name": "stderr",
     "output_type": "stream",
     "text": [
      "                                                                                \r"
     ]
    },
    {
     "name": "stdout",
     "output_type": "stream",
     "text": [
      "Sampled 16 rows from partition R5_VPN_VY (original: 15604)\n"
     ]
    },
    {
     "name": "stderr",
     "output_type": "stream",
     "text": [
      "                                                                                \r"
     ]
    },
    {
     "name": "stdout",
     "output_type": "stream",
     "text": [
      "Sampled 11 rows from partition R4_VPN_VY (original: 13240)\n"
     ]
    },
    {
     "name": "stderr",
     "output_type": "stream",
     "text": [
      "                                                                                \r"
     ]
    },
    {
     "name": "stdout",
     "output_type": "stream",
     "text": [
      "Sampled 0 rows from partition R3_VPN_VY (original: 4886)\n"
     ]
    },
    {
     "name": "stderr",
     "output_type": "stream",
     "text": [
      "                                                                                \r"
     ]
    },
    {
     "name": "stdout",
     "output_type": "stream",
     "text": [
      "Sampled 0 rows from partition R2_VPN_VY (original: 1634)\n"
     ]
    },
    {
     "name": "stderr",
     "output_type": "stream",
     "text": [
      "                                                                                \r"
     ]
    },
    {
     "name": "stdout",
     "output_type": "stream",
     "text": [
      "Sampled 0 rows from partition R1_VPN_VY (original: 705)\n"
     ]
    },
    {
     "name": "stderr",
     "output_type": "stream",
     "text": [
      "[Stage 204:>                                                        (0 + 1) / 1]\r"
     ]
    },
    {
     "name": "stdout",
     "output_type": "stream",
     "text": [
      "Sampled 0 rows from partition R5_VPY_VY (original: 101)\n"
     ]
    },
    {
     "name": "stderr",
     "output_type": "stream",
     "text": [
      "                                                                                \r"
     ]
    }
   ],
   "source": [
    "sampled_partitions = PartitioningManager.stratified_sample_partitioned_data(partitions, fraction=0.001, min_rows=100)"
   ]
  },
  {
   "cell_type": "code",
   "execution_count": 13,
   "id": "6e764fec",
   "metadata": {},
   "outputs": [
    {
     "name": "stdout",
     "output_type": "stream",
     "text": [
      "Partition R5_VPY_VN added to the combined sample.\n",
      "Partition R4_VPY_VN added to the combined sample.\n",
      "Partition R1_VPY_VN added to the combined sample.\n",
      "Partition R3_VPY_VN added to the combined sample.\n",
      "Partition R5_VPN_VN added to the combined sample.\n",
      "Partition R2_VPY_VN added to the combined sample.\n",
      "Partition R1_VPN_VN added to the combined sample.\n",
      "Partition R4_VPN_VN added to the combined sample.\n",
      "Partition R3_VPN_VN added to the combined sample.\n",
      "Partition R2_VPN_VN added to the combined sample.\n",
      "Partition R5_VPN_VY added to the combined sample.\n",
      "Partition R4_VPN_VY added to the combined sample.\n",
      "Partition R3_VPN_VY added to the combined sample.\n",
      "Partition R2_VPN_VY added to the combined sample.\n",
      "Partition R1_VPN_VY added to the combined sample.\n",
      "Partition R5_VPY_VY added to the combined sample.\n"
     ]
    },
    {
     "name": "stderr",
     "output_type": "stream",
     "text": [
      "[Stage 207:============================>                           (8 + 8) / 16]\r"
     ]
    },
    {
     "name": "stdout",
     "output_type": "stream",
     "text": [
      "Total records in combined sample: 6845\n"
     ]
    },
    {
     "name": "stderr",
     "output_type": "stream",
     "text": [
      "                                                                                \r"
     ]
    }
   ],
   "source": [
    "df_sample_M = PartitioningManager.build_combined_sample(sampled_partitions)"
   ]
  },
  {
   "cell_type": "code",
   "execution_count": 14,
   "id": "897e09d5",
   "metadata": {},
   "outputs": [],
   "source": [
    "class StatisticalAnalysisHelper():\n",
    "    @staticmethod\n",
    "    def dataset_dimensions(df_input):\n",
    "        print(\"columns in the dataset:\", len(df_input.columns))\n",
    "        print(\"rows in the dataset:\", df_input.count())\n",
    "\n",
    "    @staticmethod\n",
    "    def schema_information(df_input):\n",
    "        \"\"\"\n",
    "        This method shows the current schema of the data.\n",
    "        \"\"\"\n",
    "        df_input.printSchema()\n",
    "\n",
    "    @staticmethod\n",
    "    def descriptive_statistics(df_input):\n",
    "        \"\"\"\n",
    "        This method shows the descriptive statistics of the data.\n",
    "        \"\"\"\n",
    "        df_input.summary().show(truncate=False)\n",
    "\n",
    "    @staticmethod\n",
    "    def missing_values_table(df_input):\n",
    "        \"\"\"\n",
    "        Displays a table with the count of missing values per column.\n",
    "        \"\"\"\n",
    "        missing_exprs = []\n",
    "        \n",
    "        for c in df_input.schema.fields:\n",
    "            field_name = c.name\n",
    "            field_type = c.dataType\n",
    "            \n",
    "            if isinstance(field_type, (DoubleType, FloatType)):\n",
    "                missing_exprs.append(\n",
    "                    count(when(col(field_name).isNull() | isnan(col(field_name)), field_name)).alias(field_name)\n",
    "                )\n",
    "            elif isinstance(field_type, StringType):\n",
    "                missing_exprs.append(\n",
    "                    count(when(col(field_name).isNull() | (col(field_name) == \"\"), field_name)).alias(field_name)\n",
    "                )\n",
    "            else:\n",
    "                missing_exprs.append(\n",
    "                    count(when(col(field_name).isNull(), field_name)).alias(field_name)\n",
    "                )\n",
    "\n",
    "        df_missing_values = df_input.select(missing_exprs)\n",
    "\n",
    "        return df_missing_values"
   ]
  },
  {
   "cell_type": "code",
   "execution_count": 15,
   "id": "2b228315",
   "metadata": {},
   "outputs": [
    {
     "name": "stdout",
     "output_type": "stream",
     "text": [
      "columns in the dataset: 16\n"
     ]
    },
    {
     "name": "stderr",
     "output_type": "stream",
     "text": [
      "[Stage 210:============================>                           (8 + 8) / 16]\r"
     ]
    },
    {
     "name": "stdout",
     "output_type": "stream",
     "text": [
      "rows in the dataset: 6845\n"
     ]
    },
    {
     "name": "stderr",
     "output_type": "stream",
     "text": [
      "                                                                                \r"
     ]
    }
   ],
   "source": [
    "StatisticalAnalysisHelper.dataset_dimensions(df_sample_M)"
   ]
  },
  {
   "cell_type": "code",
   "execution_count": 16,
   "id": "8615d944",
   "metadata": {},
   "outputs": [
    {
     "name": "stdout",
     "output_type": "stream",
     "text": [
      "root\n",
      " |-- marketplace: string (nullable = true)\n",
      " |-- customer_id: integer (nullable = true)\n",
      " |-- review_id: string (nullable = true)\n",
      " |-- product_id: string (nullable = true)\n",
      " |-- product_parent: integer (nullable = true)\n",
      " |-- product_title: string (nullable = true)\n",
      " |-- product_category: string (nullable = true)\n",
      " |-- star_rating: integer (nullable = true)\n",
      " |-- helpful_votes: integer (nullable = true)\n",
      " |-- total_votes: integer (nullable = true)\n",
      " |-- vine: string (nullable = true)\n",
      " |-- verified_purchase: string (nullable = true)\n",
      " |-- review_headline: string (nullable = true)\n",
      " |-- review_body: string (nullable = true)\n",
      " |-- review_date: date (nullable = true)\n",
      " |-- sentiment: integer (nullable = true)\n",
      "\n"
     ]
    }
   ],
   "source": [
    "StatisticalAnalysisHelper.schema_information(df_sample_M)"
   ]
  },
  {
   "cell_type": "code",
   "execution_count": 17,
   "id": "fc7f9c2c",
   "metadata": {},
   "outputs": [
    {
     "name": "stderr",
     "output_type": "stream",
     "text": [
      "25/06/17 22:18:34 WARN SparkStringUtils: Truncated the string representation of a plan since it was too large. This behavior can be adjusted by setting 'spark.sql.debug.maxToStringFields'.\n",
      "[Stage 213:===================================================>   (15 + 1) / 16]\r"
     ]
    },
    {
     "name": "stdout",
     "output_type": "stream",
     "text": [
      "+-------+-----------+--------------------+--------------+-----------------+-------------------+----------------------------------------------------------------------------------------------------------+----------------+------------------+------------------+------------------+----+-----------------+---------------+--------------------------------------------------------------------------------------------------------------------------------------------------------------------------------------------+-------------------+\n",
      "|summary|marketplace|customer_id         |review_id     |product_id       |product_parent     |product_title                                                                                             |product_category|star_rating       |helpful_votes     |total_votes       |vine|verified_purchase|review_headline|review_body                                                                                                                                                                                 |sentiment          |\n",
      "+-------+-----------+--------------------+--------------+-----------------+-------------------+----------------------------------------------------------------------------------------------------------+----------------+------------------+------------------+------------------+----+-----------------+---------------+--------------------------------------------------------------------------------------------------------------------------------------------------------------------------------------------+-------------------+\n",
      "|count  |6845       |6845                |6845          |6845             |6845               |6845                                                                                                      |6845            |6845              |6845              |6845              |6845|6845             |6845           |6845                                                                                                                                                                                        |6845               |\n",
      "|mean   |NULL       |2.807951961563185E7 |NULL          |8.4531887172E9   |5.035361001051863E8|700.0                                                                                                     |NULL            |4.076698319941563 |1.3786705624543463|1.8454346238130022|NULL|NULL             |NULL           |NULL                                                                                                                                                                                        |0.7628926223520818 |\n",
      "|stddev |NULL       |1.5664284702806573E7|NULL          |3.2907154281278E9|2.879084324905891E8|NULL                                                                                                      |NULL            |1.3697455994855947|11.416817843687353|13.03581851152206 |NULL|NULL             |NULL           |NULL                                                                                                                                                                                        |0.42533974560705984|\n",
      "|min    |US         |11419               |R1001LI7194FJ8|016642966X       |652634             |( 2 PACK ) Transparent LCD Screen Protector for the Amazon Kindle 2 / Kindle 2 International E-Book Reader|PC              |1                 |0                 |0                 |N   |N                |\u001a\u001a\u001a\u001a\u001a\u001anice     |&#34;I always thought the video calls in commercials were too clear to be real... This is great!&#34; Actual (paraphrased) quote from someone on the receiving end of the video. Works well.|0                  |\n",
      "|25%    |NULL       |14359705            |NULL          |9.966303405E9    |261668661          |700.0                                                                                                     |NULL            |4                 |0                 |0                 |NULL|NULL             |NULL           |NULL                                                                                                                                                                                        |1                  |\n",
      "|50%    |NULL       |26904397            |NULL          |9.966569871E9    |501140807          |700.0                                                                                                     |NULL            |5                 |0                 |0                 |NULL|NULL             |NULL           |NULL                                                                                                                                                                                        |1                  |\n",
      "|75%    |NULL       |43010889            |NULL          |9.984987876E9    |755761778          |700.0                                                                                                     |NULL            |5                 |1                 |1                 |NULL|NULL             |NULL           |NULL                                                                                                                                                                                        |1                  |\n",
      "|max    |US         |53091437            |RZYX3UVKADR24 |B0111UYKA8       |999893717          |☆ 4 Port Powered USB 3.0 Hub Portable for MacBook Air, Windows 8 Tablet PC ☆ Multiple Splitter            |PC              |5                 |546               |588               |Y   |Y                |zero/ hundred  |👍                                                                                                                                                                                          |1                  |\n",
      "+-------+-----------+--------------------+--------------+-----------------+-------------------+----------------------------------------------------------------------------------------------------------+----------------+------------------+------------------+------------------+----+-----------------+---------------+--------------------------------------------------------------------------------------------------------------------------------------------------------------------------------------------+-------------------+\n",
      "\n"
     ]
    },
    {
     "name": "stderr",
     "output_type": "stream",
     "text": [
      "                                                                                \r"
     ]
    }
   ],
   "source": [
    "StatisticalAnalysisHelper.descriptive_statistics(df_sample_M)"
   ]
  },
  {
   "cell_type": "code",
   "execution_count": 19,
   "id": "9c34cd4f",
   "metadata": {},
   "outputs": [
    {
     "name": "stderr",
     "output_type": "stream",
     "text": [
      "[Stage 217:===================================================>   (15 + 1) / 16]\r"
     ]
    },
    {
     "name": "stdout",
     "output_type": "stream",
     "text": [
      "+-----------+-----------+---------+----------+--------------+-------------+----------------+-----------+-------------+-----------+----+-----------------+---------------+-----------+-----------+---------+\n",
      "|marketplace|customer_id|review_id|product_id|product_parent|product_title|product_category|star_rating|helpful_votes|total_votes|vine|verified_purchase|review_headline|review_body|review_date|sentiment|\n",
      "+-----------+-----------+---------+----------+--------------+-------------+----------------+-----------+-------------+-----------+----+-----------------+---------------+-----------+-----------+---------+\n",
      "|0          |0          |0        |0         |0             |0            |0               |0          |0            |0          |0   |0                |0              |0          |0          |0        |\n",
      "+-----------+-----------+---------+----------+--------------+-------------+----------------+-----------+-------------+-----------+----+-----------------+---------------+-----------+-----------+---------+\n",
      "\n"
     ]
    },
    {
     "name": "stderr",
     "output_type": "stream",
     "text": [
      "                                                                                \r"
     ]
    }
   ],
   "source": [
    "missing_values = StatisticalAnalysisHelper.missing_values_table(df_sample_M)\n",
    "missing_values.show(truncate=False)"
   ]
  },
  {
   "cell_type": "code",
   "execution_count": 20,
   "id": "70ac0189",
   "metadata": {},
   "outputs": [],
   "source": [
    "class TrainTestManager:\n",
    "  @staticmethod\n",
    "  def stratified_train_test_split(df, label_col, train_ratio : int, seed : int):\n",
    "    \"\"\"\n",
    "    Performs a stratified split of the DataFrame based on the label column.\n",
    "    Returns (train_df, test_df).\n",
    "    \"\"\"\n",
    "    label_values = df.select(label_col).distinct().rdd.flatMap(lambda x: x).collect()\n",
    "\n",
    "    train_fractions = {label: train_ratio for label in label_values}\n",
    "\n",
    "    train_df = df.sampleBy(label_col, train_fractions, seed=seed)\n",
    "\n",
    "    train_ids = train_df.select(F.monotonically_increasing_id().alias(\"id\"))\n",
    "    df_with_id = df.withColumn(\"id\", F.monotonically_increasing_id())\n",
    "\n",
    "    test_df = df_with_id.join(train_ids, on=\"id\", how=\"left_anti\").drop(\"id\")\n",
    "    train_df = train_df.drop(\"id\") if \"id\" in train_df.columns else train_df\n",
    "\n",
    "    print(f\"Train set: {train_df.count()} rows\")\n",
    "    print(f\"Test set: {test_df.count()} rows\")\n",
    "\n",
    "    return train_df, test_df"
   ]
  },
  {
   "cell_type": "code",
   "execution_count": 21,
   "id": "573aa82f",
   "metadata": {},
   "outputs": [],
   "source": [
    "class ManualLogisticRegressionManager:\n",
    "    \n",
    "    @staticmethod\n",
    "    def evaluate_binary_classification(predictions, label_col: str = \"label\", prediction_col: str = \"prediction\", probability_col: str = \"probability\"):\n",
    "        \"\"\"\n",
    "        Evalúa un modelo de clasificación binaria en base a varias métricas estándar.\n",
    "        \"\"\"\n",
    "        accuracy = predictions.filter(F.col(label_col) == F.col(prediction_col)).count() / predictions.count()\n",
    "        \n",
    "        tp = predictions.filter((F.col(prediction_col) == 1) & (F.col(label_col) == 1)).count()\n",
    "        fp = predictions.filter((F.col(prediction_col) == 1) & (F.col(label_col) == 0)).count()\n",
    "        fn = predictions.filter((F.col(prediction_col) == 0) & (F.col(label_col) == 1)).count()\n",
    "        \n",
    "        precision = tp / (tp + fp) if (tp + fp) != 0 else 0.0\n",
    "        recall = tp / (tp + fn) if (tp + fn) != 0 else 0.0\n",
    "        f1 = 2 * (precision * recall) / (precision + recall) if (precision + recall) != 0 else 0.0\n",
    "\n",
    "        evaluator = BinaryClassificationEvaluator(labelCol=label_col, rawPredictionCol=probability_col, metricName=\"areaUnderROC\")\n",
    "        auc = evaluator.evaluate(predictions)\n",
    "\n",
    "        results_df = pd.DataFrame({\n",
    "            \"accuracy\": [accuracy],\n",
    "            \"precision\": [precision],\n",
    "            \"recall\": [recall],\n",
    "            \"f1_score\": [f1],\n",
    "            \"auc\": [auc]\n",
    "        })\n",
    "\n",
    "        return results_df\n",
    "    \n",
    "    @staticmethod\n",
    "    def preprocess_data(df_train, df_test, feature_cols, label_col=\"sentiment\"):\n",
    "        \"\"\"\n",
    "        Arma un pipeline para ensamblar y escalar características.\n",
    "        \"\"\"\n",
    "        assembler = VectorAssembler(inputCols=feature_cols, outputCol=\"features_vec\")\n",
    "        scaler = StandardScaler(inputCol=\"features_vec\", outputCol=\"features\", withStd=True, withMean=False)\n",
    "        pipeline = Pipeline(stages=[assembler, scaler])\n",
    "\n",
    "        pipeline_model = pipeline.fit(df_train)\n",
    "        train_preprocessed = pipeline_model.transform(df_train)\n",
    "        test_preprocessed = pipeline_model.transform(df_test)\n",
    "\n",
    "        return train_preprocessed, test_preprocessed\n",
    "\n",
    "    @staticmethod\n",
    "    def train_logistic_regression(train_df, test_df, label_col=\"sentiment\"):\n",
    "        \"\"\"\n",
    "        Trains a logistic regression model on the training set and evaluates it on the test set.\n",
    "        Returns the trained model and evaluation metrics.\n",
    "        \"\"\"\n",
    "        lr = LogisticRegression(labelCol=label_col, featuresCol=\"features\", maxIter=10)\n",
    "\n",
    "        paramGrid = (ParamGridBuilder()\n",
    "            .addGrid(lr.regParam, [0.1])\n",
    "            .addGrid(lr.elasticNetParam, [0.0])\n",
    "            .build())\n",
    "\n",
    "        evaluator = BinaryClassificationEvaluator(labelCol=label_col, rawPredictionCol=\"rawPrediction\", metricName=\"areaUnderROC\")\n",
    "\n",
    "        cv = CrossValidator(estimator=lr,\n",
    "                            estimatorParamMaps=paramGrid,\n",
    "                            evaluator=evaluator,\n",
    "                            numFolds=1,\n",
    "                            parallelism=2)\n",
    "\n",
    "        cv_model = cv.fit(train_df)\n",
    "        best_model = cv_model.bestModel\n",
    "\n",
    "        predictions = best_model.transform(test_df)\n",
    "\n",
    "        print(f\"BEst model: RegParam = {best_model._java_obj.getRegParam()}, ElasticNet = {best_model._java_obj.getElasticNetParam()}\")\n",
    "        \n",
    "        return predictions, best_model\n",
    "\n",
    "    @staticmethod\n",
    "    def plot_roc_curve(predictions, label_col=\"label\", probability_col=\"probability\"):\n",
    "        \"\"\"\n",
    "        Grafica la curva ROC a partir de un DataFrame de predicciones de PySpark.\n",
    "        \"\"\"\n",
    "        # Convertir a Pandas\n",
    "        preds_pd = predictions.select(probability_col, label_col).toPandas()\n",
    "        \n",
    "        # Extraer probabilidad de clase positiva (1)\n",
    "        preds_pd[\"prob_1\"] = preds_pd[probability_col].apply(lambda x: float(x[1]))\n",
    "        \n",
    "        fpr, tpr, _ = roc_curve(preds_pd[label_col], preds_pd[\"prob_1\"])\n",
    "        roc_auc = auc(fpr, tpr)\n",
    "\n",
    "        plt.figure(figsize=(8, 6))\n",
    "        plt.plot(fpr, tpr, color=\"darkorange\", lw=2, label=f\"ROC curve (AUC = {roc_auc:.2f})\")\n",
    "        plt.plot([0, 1], [0, 1], color=\"navy\", lw=2, linestyle=\"--\")\n",
    "        plt.xlabel(\"False Positive Rate\")\n",
    "        plt.ylabel(\"True Positive Rate\")\n",
    "        plt.title(\"Receiver Operating Characteristic (ROC)\")\n",
    "        plt.legend(loc=\"lower right\")\n",
    "        plt.grid(True)\n",
    "        plt.show()\n",
    "\n",
    "    @staticmethod\n",
    "    def plot_confusion_matrix(predictions, label_col=\"label\", prediction_col=\"prediction\"):\n",
    "        \"\"\"\n",
    "        Muestra la matriz de confusión usando sklearn.\n",
    "        \"\"\"\n",
    "        preds_pd = predictions.select(prediction_col, label_col).toPandas()\n",
    "        cm = confusion_matrix(preds_pd[label_col], preds_pd[prediction_col])\n",
    "        disp = ConfusionMatrixDisplay(confusion_matrix=cm)\n",
    "        disp.plot(cmap=plt.cm.Blues)\n",
    "        plt.title(\"Confusion Matrix\")\n",
    "        plt.grid(False)\n",
    "        plt.show()"
   ]
  },
  {
   "cell_type": "markdown",
   "id": "4c20ea4e",
   "metadata": {},
   "source": [
    "### 📍**1. Validación cruzada - Elección de `k` y justificación**\n",
    "\n",
    "Aquí va tanto la explicación como la implementación inicial. Este es el texto sugerido (puedes copiarlo directamente como markdown en tu notebook):\n",
    "\n",
    "---\n",
    "\n",
    "#### 📌 Sección 1: Validación Cruzada - Elección de `k`\n",
    "\n",
    "Para garantizar que los resultados obtenidos por nuestro modelo sean representativos y generalizables, implementaremos un proceso de validación cruzada **estratificada**. Esta técnica nos permitirá medir la **variabilidad del desempeño** del modelo cuando se entrena y evalúa en diferentes subconjuntos de la muestra.\n",
    "\n",
    "##### 📋 ¿Por qué usar validación cruzada?\n",
    "\n",
    "* Permite estimar el rendimiento del modelo de manera más robusta.\n",
    "* Es especialmente útil cuando se tienen conjuntos de datos limitados o cuando se busca minimizar el sobreajuste.\n",
    "* En nuestro caso, dado que ya trabajamos con una muestra balanceada y estratificada (`M`), es importante asegurar que cada fold mantenga la misma proporción de clases (`sentiment`) para una evaluación justa.\n",
    "\n",
    "##### 🔢 Elección de `k`\n",
    "\n",
    "Seleccionamos un valor de `k=5` por las siguientes razones:\n",
    "\n",
    "* Es un valor comúnmente usado que ofrece un buen equilibrio entre **varianza del estimador** y **costo computacional**.\n",
    "* Dado el tamaño reducido de la muestra `M` (obtenida por muestreo estratificado desde la población original), `k=5` nos permite mantener un número suficiente de observaciones en cada fold para que el entrenamiento sea válido.\n",
    "* Evitamos valores muy grandes de `k` ya que la ejecución en PySpark es más costosa computacionalmente.\n",
    "\n",
    "---\n",
    "\n",
    "¿Quieres que continuemos ya con el **código de implementación del paso 2 (construcción de los folds k=5)** o quieres revisar/redactar tú mismo esta parte antes de seguir?\n",
    "\n",
    "Puedo ayudarte directamente con el código para construir los folds de validación cruzada usando PySpark y tu muestra `df_sample_M`.\n"
   ]
  },
  {
   "cell_type": "markdown",
   "id": "8f8056ac",
   "metadata": {},
   "source": [
    "### Sección 2: Construcción de los k-folds\n",
    "\n",
    "El objetivo aquí es:\n",
    "\n",
    "Dividir la muestra df_sample_M en k subconjuntos estratificados según la variable sentiment.\n",
    "Asegurar que en cada fold haya una proporción representativa de clases.\n",
    "Guardar los k folds para luego entrenar con combinaciones (k-1 para entrenamiento y 1 para prueba)."
   ]
  },
  {
   "cell_type": "code",
   "execution_count": 22,
   "id": "acaedcbd",
   "metadata": {},
   "outputs": [],
   "source": [
    "def manual_group_kfold(df_spark, group_col, n_splits=5):\n",
    "    \"\"\"\n",
    "    Divide un DataFrame de Spark en folds sin mezclar grupos.\n",
    "    \"\"\"\n",
    "    unique_groups = df_spark.select(group_col).distinct().toPandas()[group_col].sample(frac=1).tolist()  # shuffle\n",
    "    group_folds = [unique_groups[i::n_splits] for i in range(n_splits)]\n",
    "    \n",
    "    folds = []\n",
    "    for i in range(n_splits):\n",
    "        val_groups = group_folds[i]\n",
    "        train_groups = [g for j, fold in enumerate(group_folds) if j != i for g in fold]\n",
    "\n",
    "        train_df = df_spark.filter(col(group_col).isin(train_groups))\n",
    "        val_df = df_spark.filter(col(group_col).isin(val_groups))\n",
    "        \n",
    "        folds.append((train_df, val_df))\n",
    "    \n",
    "    return folds"
   ]
  },
  {
   "cell_type": "code",
   "execution_count": 23,
   "id": "35a0f157",
   "metadata": {},
   "outputs": [],
   "source": [
    "from pyspark.sql import DataFrame\n",
    "import random\n",
    "\n",
    "class CrossValidationManager:\n",
    "    @staticmethod\n",
    "\n",
    "    \n",
    "    def stratified_k_fold_split(df: DataFrame, label_col: str, k: int, seed: int = 42):\n",
    "        \"\"\"\n",
    "        Divide un DataFrame en k folds estratificados con base en la columna de etiqueta.\n",
    "        Devuelve una lista de DataFrames, uno por fold.\n",
    "        \"\"\"\n",
    "        random.seed(seed)\n",
    "        label_values = df.select(label_col).distinct().rdd.flatMap(lambda x: x).collect()\n",
    "        \n",
    "        folds = [[] for _ in range(k)]\n",
    "\n",
    "        for label in label_values:\n",
    "            df_label = df.filter(F.col(label_col) == label)\n",
    "            indexed = df_label.withColumn(\"rand\", F.rand(seed))\n",
    "            sorted_df = indexed.orderBy(\"rand\")\n",
    "            total = sorted_df.count()\n",
    "            size_per_fold = total // k\n",
    "            remainder = total % k\n",
    "\n",
    "            start = 0\n",
    "            for i in range(k):\n",
    "                end = start + size_per_fold + (1 if i < remainder else 0)\n",
    "                fold_slice = sorted_df.limit(end).subtract(sorted_df.limit(start))\n",
    "                folds[i].append(fold_slice)\n",
    "                start = end\n",
    "\n",
    "        # Unir cada fold en un solo DataFrame\n",
    "        folds_df = [folds[i][0].unionAll(folds[i][1]) if len(folds[i]) > 1 else folds[i][0] for i in range(k)]\n",
    "        \n",
    "        for i, f in enumerate(folds_df):\n",
    "            print(f\"Fold {i + 1}: {f.count()} registros\")\n",
    "\n",
    "        return folds_df\n",
    "    \n",
    "    @staticmethod\n",
    "    def folds_test_train_set(k_folds_input, n_fold_input : int):\n",
    "        test_df = k_folds_input[n_fold_input]\n",
    "        train_df = reduce(DataFrame.union, [k_folds_input[i] for i in range(len(k_folds_input)) if i != n_fold_input])\n",
    "\n",
    "        return test_df, train_df\n"
   ]
  },
  {
   "cell_type": "code",
   "execution_count": 24,
   "id": "ea818432",
   "metadata": {},
   "outputs": [
    {
     "name": "stderr",
     "output_type": "stream",
     "text": [
      "                                                                                \r"
     ]
    },
    {
     "name": "stdout",
     "output_type": "stream",
     "text": [
      "Fold 1: 1370 registros\n"
     ]
    },
    {
     "name": "stderr",
     "output_type": "stream",
     "text": [
      "                                                                                \r"
     ]
    },
    {
     "name": "stdout",
     "output_type": "stream",
     "text": [
      "Fold 2: 1370 registros\n"
     ]
    },
    {
     "name": "stderr",
     "output_type": "stream",
     "text": [
      "                                                                                \r"
     ]
    },
    {
     "name": "stdout",
     "output_type": "stream",
     "text": [
      "Fold 3: 1369 registros\n"
     ]
    },
    {
     "name": "stderr",
     "output_type": "stream",
     "text": [
      "                                                                                \r"
     ]
    },
    {
     "name": "stdout",
     "output_type": "stream",
     "text": [
      "Fold 4: 1368 registros\n"
     ]
    },
    {
     "name": "stderr",
     "output_type": "stream",
     "text": [
      "[Stage 274:===================================================>   (15 + 1) / 16]\r"
     ]
    },
    {
     "name": "stdout",
     "output_type": "stream",
     "text": [
      "Fold 5: 1368 registros\n"
     ]
    },
    {
     "name": "stderr",
     "output_type": "stream",
     "text": [
      "                                                                                \r"
     ]
    }
   ],
   "source": [
    "k_folds = CrossValidationManager.stratified_k_fold_split(df_sample_M, label_col=\"sentiment\", k=5, seed=42)"
   ]
  },
  {
   "cell_type": "markdown",
   "id": "36029c80",
   "metadata": {},
   "source": [
    "### 3.Entrenamiento del Modelo y Evaluación Exhaustiva\n",
    "Para evaluar de forma robusta el desempeño del modelo, se implementó un esquema de validación cruzada estratificada con 5 folds utilizando PySpark. Este procedimiento permite dividir el conjunto de datos en cinco subconjuntos de forma que la proporción de clases (variable sentiment) se mantenga equilibrada en cada partición. En cada iteración, uno de los folds se utiliza como conjunto de prueba y los otros cuatro como conjunto de entrenamiento, rotando este esquema hasta completar las cinco combinaciones posibles.\n",
    "\n",
    "Durante cada iteración se utilizó el método folds_test_train_set, que permite obtener los datos de prueba y entrenamiento correspondientes al fold actual. Para acelerar la experimentación inicial, se aplicó un muestreo aleatorio del 0.1% (fraction=0.001) tanto al conjunto de entrenamiento como al de prueba. Esto se hizo con la finalidad de reducir el tiempo de cómputo sin comprometer la estructura del pipeline.\n",
    "\n",
    "Se seleccionaron como variables predictoras las siguientes características numéricas: star_rating, helpful_votes y total_votes.\n",
    "\n",
    "El preprocesamiento de los datos consistió en la construcción de un pipeline con dos etapas: ensamblado de características mediante VectorAssembler y estandarización con StandardScaler. Este proceso se aplicó tanto al conjunto de entrenamiento como al de prueba en cada fold, asegurando una transformación consistente.\n",
    "\n",
    "Luego del preprocesamiento, se entrenó un modelo de regresión logística con una búsqueda de hiperparámetros limitada utilizando CrossValidator. A pesar de que se empleó una grilla simple en esta etapa, el procedimiento está diseñado para escalar a búsquedas más complejas si se requiere.\n",
    "\n",
    "Cada modelo entrenado fue evaluado con base en cinco métricas estándar de clasificación binaria:\n",
    "\n",
    "Accuracy\n",
    "Precision\n",
    "Recall\n",
    "F1-score\n",
    "Área bajo la curva ROC (AUC)\n",
    "Las predicciones generadas por el modelo fueron evaluadas mediante el método evaluate_binary_classification, que calcula dichas métricas directamente a partir de las predicciones y etiquetas reales. Los resultados de cada fold fueron convertidos a dataframes de Pandas y almacenados individualmente.\n",
    "\n",
    "Finalmente, todas las métricas de los cinco folds fueron concatenadas en un único DataFrame llamado metrics_concat, lo que permite visualizar de forma clara el rendimiento del modelo en cada una de las particiones de validación cruzada y detectar posibles variaciones entre folds."
   ]
  },
  {
   "cell_type": "code",
   "execution_count": 25,
   "id": "844d3cf9",
   "metadata": {},
   "outputs": [],
   "source": [
    "features = [\"star_rating\", \"helpful_votes\", \"total_votes\"]"
   ]
  },
  {
   "cell_type": "code",
   "execution_count": null,
   "id": "db77c251",
   "metadata": {},
   "outputs": [
    {
     "data": {
      "text/html": [
       "<div>\n",
       "<style scoped>\n",
       "    .dataframe tbody tr th:only-of-type {\n",
       "        vertical-align: middle;\n",
       "    }\n",
       "\n",
       "    .dataframe tbody tr th {\n",
       "        vertical-align: top;\n",
       "    }\n",
       "\n",
       "    .dataframe thead th {\n",
       "        text-align: right;\n",
       "    }\n",
       "</style>\n",
       "<table border=\"1\" class=\"dataframe\">\n",
       "  <thead>\n",
       "    <tr style=\"text-align: right;\">\n",
       "      <th></th>\n",
       "      <th>accuracy</th>\n",
       "      <th>f1_score</th>\n",
       "      <th>precision</th>\n",
       "      <th>recall</th>\n",
       "      <th>auc_roc</th>\n",
       "    </tr>\n",
       "  </thead>\n",
       "  <tbody>\n",
       "    <tr>\n",
       "      <th>0</th>\n",
       "      <td>0.796338</td>\n",
       "      <td>0.716014</td>\n",
       "      <td>0.751058</td>\n",
       "      <td>0.796338</td>\n",
       "      <td>0.590533</td>\n",
       "    </tr>\n",
       "  </tbody>\n",
       "</table>\n",
       "</div>"
      ],
      "text/plain": [
       "   accuracy  f1_score  precision    recall   auc_roc\n",
       "0  0.796338  0.716014   0.751058  0.796338  0.590533"
      ]
     },
     "metadata": {},
     "output_type": "display_data"
    },
    {
     "name": "stderr",
     "output_type": "stream",
     "text": [
      "[Stage 350:> (7 + 8) / 16][Stage 351:> (0 + 0) / 16][Stage 352:> (0 + 0) / 16]  \r"
     ]
    }
   ],
   "source": [
    "test_df_0, train_df_0 = CrossValidationManager.folds_test_train_set(k_folds, 1)\n",
    "\n",
    "train_pp, test_pp = ManualLogisticRegressionManager.preprocess_data(\n",
    "  train_df_0.sample(withReplacement=False, fraction=0.001, seed=42),\n",
    "  test_df_0.sample(withReplacement=False, fraction=0.001, seed=42),\n",
    "  feature_cols=features\n",
    ")\n",
    "\n",
    "predictions, best_model = ManualLogisticRegressionManager.train_logistic_regression(train_pp, test_pp)\n",
    "metrics_0 = ManualLogisticRegressionManager.evaluate_binary_classification(predictions, label_col=\"sentiment\")\n",
    "display(metrics_0)"
   ]
  },
  {
   "cell_type": "code",
   "execution_count": 32,
   "id": "7e5d1508",
   "metadata": {},
   "outputs": [
    {
     "data": {
      "text/html": [
       "<div>\n",
       "<style scoped>\n",
       "    .dataframe tbody tr th:only-of-type {\n",
       "        vertical-align: middle;\n",
       "    }\n",
       "\n",
       "    .dataframe tbody tr th {\n",
       "        vertical-align: top;\n",
       "    }\n",
       "\n",
       "    .dataframe thead th {\n",
       "        text-align: right;\n",
       "    }\n",
       "</style>\n",
       "<table border=\"1\" class=\"dataframe\">\n",
       "  <thead>\n",
       "    <tr style=\"text-align: right;\">\n",
       "      <th></th>\n",
       "      <th>accuracy</th>\n",
       "      <th>f1_score</th>\n",
       "      <th>precision</th>\n",
       "      <th>recall</th>\n",
       "      <th>auc_roc</th>\n",
       "    </tr>\n",
       "  </thead>\n",
       "  <tbody>\n",
       "    <tr>\n",
       "      <th>0</th>\n",
       "      <td>0.795002</td>\n",
       "      <td>0.713812</td>\n",
       "      <td>0.743298</td>\n",
       "      <td>0.795002</td>\n",
       "      <td>0.58893</td>\n",
       "    </tr>\n",
       "  </tbody>\n",
       "</table>\n",
       "</div>"
      ],
      "text/plain": [
       "   accuracy  f1_score  precision    recall  auc_roc\n",
       "0  0.795002  0.713812   0.743298  0.795002  0.58893"
      ]
     },
     "metadata": {},
     "output_type": "display_data"
    },
    {
     "name": "stderr",
     "output_type": "stream",
     "text": [
      "[Stage 352:> (0 + 8) / 16][Stage 353:> (0 + 0) / 16][Stage 354:> (0 + 0) / 16]\r"
     ]
    }
   ],
   "source": [
    "test_df_1, train_df_1 = CrossValidationManager.folds_test_train_set(k_folds, 1)\n",
    "\n",
    "train_pp, test_pp = ManualLogisticRegressionManager.preprocess_data(\n",
    "  train_df_1.sample(withReplacement=False, fraction=0.001, seed=42),\n",
    "  test_df_1.sample(withReplacement=False, fraction=0.001, seed=42),\n",
    "  feature_cols=features\n",
    ")\n",
    "\n",
    "predictions, best_model = ManualLogisticRegressionManager.train_logistic_regression(train_pp, test_pp)\n",
    "metrics_1 = ManualLogisticRegressionManager.evaluate_binary_classification(predictions, label_col=\"sentiment\")\n",
    "display(metrics_1)"
   ]
  },
  {
   "cell_type": "code",
   "execution_count": null,
   "id": "8d3fd960",
   "metadata": {},
   "outputs": [
    {
     "data": {
      "text/html": [
       "<div>\n",
       "<style scoped>\n",
       "    .dataframe tbody tr th:only-of-type {\n",
       "        vertical-align: middle;\n",
       "    }\n",
       "\n",
       "    .dataframe tbody tr th {\n",
       "        vertical-align: top;\n",
       "    }\n",
       "\n",
       "    .dataframe thead th {\n",
       "        text-align: right;\n",
       "    }\n",
       "</style>\n",
       "<table border=\"1\" class=\"dataframe\">\n",
       "  <thead>\n",
       "    <tr style=\"text-align: right;\">\n",
       "      <th></th>\n",
       "      <th>accuracy</th>\n",
       "      <th>f1_score</th>\n",
       "      <th>precision</th>\n",
       "      <th>recall</th>\n",
       "      <th>auc_roc</th>\n",
       "    </tr>\n",
       "  </thead>\n",
       "  <tbody>\n",
       "    <tr>\n",
       "      <th>0</th>\n",
       "      <td>0.795111</td>\n",
       "      <td>0.714296</td>\n",
       "      <td>0.749327</td>\n",
       "      <td>0.795111</td>\n",
       "      <td>0.589376</td>\n",
       "    </tr>\n",
       "  </tbody>\n",
       "</table>\n",
       "</div>"
      ],
      "text/plain": [
       "   accuracy  f1_score  precision    recall   auc_roc\n",
       "0  0.795111  0.714296   0.749327  0.795111  0.589376"
      ]
     },
     "metadata": {},
     "output_type": "display_data"
    },
    {
     "name": "stderr",
     "output_type": "stream",
     "text": [
      "[Stage 353:> (0 + 8) / 16][Stage 354:> (0 + 0) / 16][Stage 355:> (0 + 0) / 16]\r"
     ]
    }
   ],
   "source": [
    "test_df_2, train_df_2 = CrossValidationManager.folds_test_train_set(k_folds, 2)\n",
    "\n",
    "train_pp, test_pp = ManualLogisticRegressionManager.preprocess_data(\n",
    "  train_df_2.sample(withReplacement=False, fraction=0.001, seed=42),\n",
    "  test_df_2.sample(withReplacement=False, fraction=0.001, seed=42),\n",
    "  feature_cols=features\n",
    ")\n",
    "\n",
    "predictions, best_model = ManualLogisticRegressionManager.train_logistic_regression(train_pp, test_pp)\n",
    "metrics_2 = ManualLogisticRegressionManager.evaluate_binary_classification(predictions, label_col=\"sentiment\")\n",
    "display(metrics_2)"
   ]
  },
  {
   "cell_type": "code",
   "execution_count": 34,
   "id": "d2b400a6",
   "metadata": {},
   "outputs": [
    {
     "data": {
      "text/html": [
       "<div>\n",
       "<style scoped>\n",
       "    .dataframe tbody tr th:only-of-type {\n",
       "        vertical-align: middle;\n",
       "    }\n",
       "\n",
       "    .dataframe tbody tr th {\n",
       "        vertical-align: top;\n",
       "    }\n",
       "\n",
       "    .dataframe thead th {\n",
       "        text-align: right;\n",
       "    }\n",
       "</style>\n",
       "<table border=\"1\" class=\"dataframe\">\n",
       "  <thead>\n",
       "    <tr style=\"text-align: right;\">\n",
       "      <th></th>\n",
       "      <th>accuracy</th>\n",
       "      <th>f1_score</th>\n",
       "      <th>precision</th>\n",
       "      <th>recall</th>\n",
       "      <th>auc_roc</th>\n",
       "    </tr>\n",
       "  </thead>\n",
       "  <tbody>\n",
       "    <tr>\n",
       "      <th>0</th>\n",
       "      <td>0.794534</td>\n",
       "      <td>0.712823</td>\n",
       "      <td>0.744214</td>\n",
       "      <td>0.794534</td>\n",
       "      <td>0.590555</td>\n",
       "    </tr>\n",
       "  </tbody>\n",
       "</table>\n",
       "</div>"
      ],
      "text/plain": [
       "   accuracy  f1_score  precision    recall   auc_roc\n",
       "0  0.794534  0.712823   0.744214  0.794534  0.590555"
      ]
     },
     "metadata": {},
     "output_type": "display_data"
    },
    {
     "name": "stderr",
     "output_type": "stream",
     "text": [
      "[Stage 353:>(15 + 1) / 16][Stage 354:> (0 + 7) / 16][Stage 355:> (0 + 0) / 16]\r"
     ]
    }
   ],
   "source": [
    "test_df_3, train_df_3 = CrossValidationManager.folds_test_train_set(k_folds, 3)\n",
    "\n",
    "train_pp, test_pp = ManualLogisticRegressionManager.preprocess_data(\n",
    "  train_df_3.sample(withReplacement=False, fraction=0.001, seed=42),\n",
    "  test_df_3.sample(withReplacement=False, fraction=0.001, seed=42),\n",
    "  feature_cols=features\n",
    ")\n",
    "\n",
    "predictions, best_model = ManualLogisticRegressionManager.train_logistic_regression(train_pp, test_pp)\n",
    "metrics_3 = ManualLogisticRegressionManager.evaluate_binary_classification(predictions, label_col=\"sentiment\")\n",
    "display(metrics_3)"
   ]
  },
  {
   "cell_type": "code",
   "execution_count": null,
   "id": "67c16703",
   "metadata": {},
   "outputs": [
    {
     "data": {
      "text/html": [
       "<div>\n",
       "<style scoped>\n",
       "    .dataframe tbody tr th:only-of-type {\n",
       "        vertical-align: middle;\n",
       "    }\n",
       "\n",
       "    .dataframe tbody tr th {\n",
       "        vertical-align: top;\n",
       "    }\n",
       "\n",
       "    .dataframe thead th {\n",
       "        text-align: right;\n",
       "    }\n",
       "</style>\n",
       "<table border=\"1\" class=\"dataframe\">\n",
       "  <thead>\n",
       "    <tr style=\"text-align: right;\">\n",
       "      <th></th>\n",
       "      <th>accuracy</th>\n",
       "      <th>f1_score</th>\n",
       "      <th>precision</th>\n",
       "      <th>recall</th>\n",
       "      <th>auc_roc</th>\n",
       "    </tr>\n",
       "  </thead>\n",
       "  <tbody>\n",
       "    <tr>\n",
       "      <th>0</th>\n",
       "      <td>0.795805</td>\n",
       "      <td>0.71459</td>\n",
       "      <td>0.747277</td>\n",
       "      <td>0.795805</td>\n",
       "      <td>0.591972</td>\n",
       "    </tr>\n",
       "  </tbody>\n",
       "</table>\n",
       "</div>"
      ],
      "text/plain": [
       "   accuracy  f1_score  precision    recall   auc_roc\n",
       "0  0.795805   0.71459   0.747277  0.795805  0.591972"
      ]
     },
     "metadata": {},
     "output_type": "display_data"
    },
    {
     "name": "stderr",
     "output_type": "stream",
     "text": [
      "[Stage 356:>(11 + 5) / 16][Stage 357:> (0 + 3) / 16][Stage 359:> (0 + 0) / 16]\r"
     ]
    }
   ],
   "source": [
    "test_df_4, train_df_4 = CrossValidationManager.folds_test_train_set(k_folds, 4)\n",
    "\n",
    "train_pp, test_pp = ManualLogisticRegressionManager.preprocess_data(\n",
    "  train_df_4.sample(withReplacement=False, fraction=0.001, seed=42),\n",
    "  test_df_4.sample(withReplacement=False, fraction=0.001, seed=42),\n",
    "  feature_cols=features\n",
    ")\n",
    "\n",
    "predictions, best_model = ManualLogisticRegressionManager.train_logistic_regression(train_pp, test_pp)\n",
    "metrics_4 = ManualLogisticRegressionManager.evaluate_binary_classification(predictions, label_col=\"sentiment\")\n",
    "display(metrics_4)"
   ]
  },
  {
   "cell_type": "markdown",
   "id": "59eec809",
   "metadata": {},
   "source": [
    "### 4. Visualización de resultados\n",
    "\n",
    "Propósito de las Gráficas de Evaluación\n",
    "Con el objetivo de analizar el rendimiento del modelo de regresión logística entrenado en cada fold de validación cruzada, se generaron diferentes visualizaciones utilizando los resultados almacenados en metrics_concat.\n",
    "\n",
    "Las gráficas cumplen los siguientes propósitos:\n",
    "\n",
    "Gráficas de barras individuales por métrica\n",
    "Cada métrica de evaluación (accuracy, precision, recall, f1_score, auc) se visualiza por separado en un gráfico de barras. Esto permite observar con claridad la variabilidad del desempeño del modelo en cada fold, facilitando la detección de posibles inconsistencias o estabilidad en la generalización.\n",
    "Gráfico de caja (boxplot)\n",
    "\n",
    "\n",
    "Se genera una gráfica de tipo boxplot que muestra la distribución de las métricas a lo largo de los 5 folds. Esta visualización permite comparar la dispersión, identificar valores atípicos (outliers), y entender la robustez general del modelo en distintas particiones del conjunto de datos.\n",
    "Gráfico de líneas comparativo\n",
    "\n",
    "\n",
    "Finalmente, se construyó un gráfico de líneas donde se trazan todas las métricas en función de los folds. Esta visualización conjunta permite hacer una comparación visual rápida entre el comportamiento de las distintas métricas y detectar correlaciones o contradicciones entre ellas (por ejemplo, un aumento en precision con una disminución en recall).\n",
    "Estas gráficas son fundamentales para complementar el análisis cuantitativo de las métricas y proporcionar una interpretación visual clara del rendimiento del modelo, ayudando a justificar su estabilidad o la necesidad de mejoras en futuras iteraciones."
   ]
  },
  {
   "cell_type": "code",
   "execution_count": null,
   "id": "bcc04709",
   "metadata": {},
   "outputs": [
    {
     "data": {
      "text/html": [
       "<div>\n",
       "<style scoped>\n",
       "    .dataframe tbody tr th:only-of-type {\n",
       "        vertical-align: middle;\n",
       "    }\n",
       "\n",
       "    .dataframe tbody tr th {\n",
       "        vertical-align: top;\n",
       "    }\n",
       "\n",
       "    .dataframe thead th {\n",
       "        text-align: right;\n",
       "    }\n",
       "</style>\n",
       "<table border=\"1\" class=\"dataframe\">\n",
       "  <thead>\n",
       "    <tr style=\"text-align: right;\">\n",
       "      <th></th>\n",
       "      <th>accuracy</th>\n",
       "      <th>f1_score</th>\n",
       "      <th>precision</th>\n",
       "      <th>recall</th>\n",
       "      <th>auc_roc</th>\n",
       "    </tr>\n",
       "  </thead>\n",
       "  <tbody>\n",
       "    <tr>\n",
       "      <th>Fold 0</th>\n",
       "      <td>0.796338</td>\n",
       "      <td>0.716014</td>\n",
       "      <td>0.751058</td>\n",
       "      <td>0.796338</td>\n",
       "      <td>0.590533</td>\n",
       "    </tr>\n",
       "    <tr>\n",
       "      <th>Fold 1</th>\n",
       "      <td>0.795002</td>\n",
       "      <td>0.713812</td>\n",
       "      <td>0.743298</td>\n",
       "      <td>0.795002</td>\n",
       "      <td>0.588930</td>\n",
       "    </tr>\n",
       "    <tr>\n",
       "      <th>Fold 2</th>\n",
       "      <td>0.795111</td>\n",
       "      <td>0.714296</td>\n",
       "      <td>0.749327</td>\n",
       "      <td>0.795111</td>\n",
       "      <td>0.589376</td>\n",
       "    </tr>\n",
       "    <tr>\n",
       "      <th>Fold 3</th>\n",
       "      <td>0.794534</td>\n",
       "      <td>0.712823</td>\n",
       "      <td>0.744214</td>\n",
       "      <td>0.794534</td>\n",
       "      <td>0.590555</td>\n",
       "    </tr>\n",
       "    <tr>\n",
       "      <th>Fold 4</th>\n",
       "      <td>0.795805</td>\n",
       "      <td>0.714590</td>\n",
       "      <td>0.747277</td>\n",
       "      <td>0.795805</td>\n",
       "      <td>0.591972</td>\n",
       "    </tr>\n",
       "  </tbody>\n",
       "</table>\n",
       "</div>"
      ],
      "text/plain": [
       "        accuracy  f1_score  precision    recall   auc_roc\n",
       "Fold 0  0.796338  0.716014   0.751058  0.796338  0.590533\n",
       "Fold 1  0.795002  0.713812   0.743298  0.795002  0.588930\n",
       "Fold 2  0.795111  0.714296   0.749327  0.795111  0.589376\n",
       "Fold 3  0.794534  0.712823   0.744214  0.794534  0.590555\n",
       "Fold 4  0.795805  0.714590   0.747277  0.795805  0.591972"
      ]
     },
     "metadata": {},
     "output_type": "display_data"
    },
    {
     "name": "stderr",
     "output_type": "stream",
     "text": [
      "[Stage 348:=================>                                      (5 + 8) / 16]\r"
     ]
    }
   ],
   "source": [
    "experiment_results = pd.concat(\n",
    "    [metrics_0, metrics_1, metrics_2, metrics_3, metrics_4],\n",
    "    keys=[\"Fold 0\", \"Fold 1\", \"Fold 2\", \"Fold 3\", \"Fold 4\"]\n",
    ")"
   ]
  },
  {
   "cell_type": "code",
   "execution_count": null,
   "id": "7ca0e677",
   "metadata": {},
   "outputs": [],
   "source": [
    "results_df = pd.DataFrame(experiment_results)"
   ]
  },
  {
   "cell_type": "markdown",
   "id": "d1af4d6d",
   "metadata": {},
   "source": [
    "Los resultados muestran que el modelo mantiene una consistencia notable en sus métricas de desempeño a lo largo de los cinco pliegues de validación cruzada. El accuracy oscila entre 0.7945 y 0.7963, mientras que el F1-score varía entre 0.7128 y 0.7160, lo cual refleja una baja variabilidad interfold y sugiere que el modelo no está sobreajustando a subconjuntos específicos. Las métricas de precision y recall también presentan una correspondencia equilibrada, reforzando que el modelo no favorece excesivamente una clase sobre otra. Aunque el AUC-ROC se mantiene en valores moderados (~0.59), es coherente con la naturaleza binaria y desbalanceada de la tarea de clasificación. En conjunto, los resultados validan que el modelo es robusto, generaliza adecuadamente, y fue correctamente ajustado tras eliminar fuentes de fuga de información como la variable star_rating."
   ]
  },
  {
   "cell_type": "code",
   "execution_count": null,
   "id": "967faa02",
   "metadata": {},
   "outputs": [
    {
     "data": {
      "image/png": "[encoded data removed]",
      "text/plain": [
       "<Figure size 1500x800 with 1 Axes>"
      ]
     },
     "metadata": {},
     "output_type": "display_data"
    }
   ],
   "source": [
    "# Establecemos el estilo de Seaborn para gráficos más atractivos\n",
    "sns.set_style(\"whitegrid\")\n",
    "plt.rcParams['figure.figsize'] = (12, 8) # Tamaño general de las figuras\n",
    "\n",
    "# --- 1. Gráfico de Barras: Rendimiento de cada Métrica por Fold ---\n",
    "# Usamos Melt para transformar el DataFrame y facilitar la graficación multi-métrica\n",
    "metrics_to_plot = ['accuracy', 'f1_score', 'precision', 'recall', 'auc_roc']\n",
    "results_melted = results_df.melt(id_vars=['fold'], value_vars=metrics_to_plot, var_name='Metric', value_name='Score')\n",
    "\n",
    "plt.figure(figsize=(15, 8))\n",
    "sns.barplot(x='fold', y='Score', hue='Metric', data=results_melted, palette='viridis')\n",
    "plt.title('Rendimiento del Modelo GBT por Fold para Cada Métrica', fontsize=16)\n",
    "plt.xlabel('Número de Fold', fontsize=12)\n",
    "plt.ylabel('Puntuación de la Métrica', fontsize=12)\n",
    "plt.ylim(0, 1) # Las métricas están entre 0 y 1\n",
    "plt.legend(title='Métrica', bbox_to_anchor=(1.05, 1), loc='upper left')\n",
    "plt.grid(axis='y', linestyle='--')\n",
    "plt.tight_layout()\n",
    "plt.show()"
   ]
  },
  {
   "cell_type": "markdown",
   "id": "e5bd4065",
   "metadata": {},
   "source": [
    "La siguiente visualización presenta el comportamiento del modelo a través de los cinco pliegues generados mediante validación cruzada, considerando cinco métricas fundamentales: accuracy, f1_score, precision, recall y AUC-ROC. Esta gráfica de barras permite observar, de forma simultánea y desagregada, el rendimiento del modelo en cada fold, lo cual resulta especialmente valioso en ejercicios de validación, donde se busca evaluar la consistencia y capacidad de generalización del modelo.\n",
    "\n",
    "Desde una perspectiva analítica, el gráfico revela una notable estabilidad interfold. Las métricas se mantienen uniformes a lo largo de los cinco pliegues, sin presencia de variaciones abruptas ni outliers visibles. Este patrón sugiere que el modelo no está sobreajustando a subconjuntos específicos del conjunto de entrenamiento, y que ha sido capaz de capturar patrones generales de la muestra M con alto grado de reproducibilidad."
   ]
  },
  {
   "cell_type": "code",
   "execution_count": null,
   "id": "0970a2c9",
   "metadata": {},
   "outputs": [
    {
     "data": {
      "image/png": "[encoded data removed]",
      "text/plain": [
       "<Figure size 1500x800 with 1 Axes>"
      ]
     },
     "metadata": {},
     "output_type": "display_data"
    }
   ],
   "source": [
    "# --- 2. Box Plots: Distribución y Variabilidad de las Métricas a través de los Folds ---\n",
    "# Esto es excelente para visualizar la variabilidad de los resultados\n",
    "plt.figure(figsize=(15, 8))\n",
    "sns.boxplot(x='Metric', y='Score', data=results_melted, hue='Metric', palette='muted', legend=False)\n",
    "plt.title('Distribución de Métricas a través de los 5 Folds de Validación Cruzada', fontsize=16)\n",
    "plt.xlabel('Métrica de Evaluación', fontsize=12)\n",
    "plt.ylabel('Puntuación', fontsize=12)\n",
    "plt.ylim(0, 1)\n",
    "plt.grid(axis='y', linestyle='--')\n",
    "plt.tight_layout()\n",
    "plt.show()"
   ]
  },
  {
   "cell_type": "markdown",
   "id": "a4a7cd17",
   "metadata": {},
   "source": [
    "El gráfico de cajas (boxplot) presentado permite analizar la distribución y variabilidad de las principales métricas de evaluación del modelo (accuracy, f1_score, precision, recall y AUC-ROC) a lo largo de los cinco folds generados mediante validación cruzada. Esta visualización es de especial utilidad en contextos de modelado predictivo, ya que permite identificar posibles inestabilidades o dispersiones significativas en el rendimiento del modelo, las cuales podrían indicar problemas de sobreajuste, sensibilidad a ciertos subconjuntos de datos o variabilidad inherente en la muestra.\n",
    "\n",
    "En este caso, las cajas correspondientes a cada métrica muestran una variación mínima entre los folds, lo que reafirma nuevamente una alta consistencia en el desempeño del modelo. No se observan valores atípicos (outliers) ni amplitudes intercuartílicas pronunciadas, lo cual respalda empíricamente que el modelo ha logrado una generalización robusta y balanceada. La métrica AUC-ROC, si bien es la más baja en términos absolutos, también presenta una variabilidad muy reducida, lo que reafirma su estabilidad como indicador del poder discriminativo del modelo.\n",
    "\n",
    "En síntesis, este gráfico aporta una evidencia visual contundente sobre la baja dispersión de los resultados obtenidos a través de los distintos folds, reforzando la confiabilidad de las métricas globales reportadas y validando el uso de como una estrategia eficaz y estable para la clasificación binaria del sentimiento en reseñas de Amazon."
   ]
  },
  {
   "cell_type": "code",
   "execution_count": null,
   "id": "8997f46a",
   "metadata": {},
   "outputs": [
    {
     "data": {
      "image/png": "[encoded data removed]",
      "text/plain": [
       "<Figure size 1000x700 with 1 Axes>"
      ]
     },
     "metadata": {},
     "output_type": "display_data"
    }
   ],
   "source": [
    "# --- 3. Gráfico de Barras: Media de las Métricas con Desviación Estándar ---\n",
    "# Esto resume el rendimiento promedio y su variabilidad directamente\n",
    "mean_scores = results_df[metrics_to_plot].mean()\n",
    "std_scores = results_df[metrics_to_plot].std()\n",
    "\n",
    "plt.figure(figsize=(10, 7))\n",
    "mean_scores.plot(kind='bar', yerr=std_scores, capsize=5, color=sns.color_palette(\"deep\"))\n",
    "plt.title('Rendimiento Promedio del Modelo GBT (con Desviación Estándar)', fontsize=16)\n",
    "plt.xlabel('Métrica de Evaluación', fontsize=12)\n",
    "plt.ylabel('Puntuación Promedio', fontsize=12)\n",
    "plt.ylim(0, 1)\n",
    "plt.xticks(rotation=45, ha='right')\n",
    "plt.grid(axis='y', linestyle='--')\n",
    "plt.tight_layout()\n",
    "plt.show()"
   ]
  },
  {
   "cell_type": "markdown",
   "id": "27437857",
   "metadata": {},
   "source": [
    "El gráfico de barras presentado muestra el rendimiento promedio del modelo GBT para cada métrica evaluada , acompañado de sus respectivas barras de error que representan la desviación estándar calculada a partir de los resultados de los cinco folds de validación cruzada. Esta visualización es especialmente útil para resumir de forma compacta y comparativa el comportamiento general del modelo, permitiendo observar tanto su eficacia como su estabilidad estadística.\n",
    "\n",
    "Se aprecia que las métricas accuracy, recall y precision presentan valores promedio elevados, con desviaciones estándar muy reducidas, lo cual sugiere un modelo consistente y fiable en su capacidad de generalización. El f1_score, que balancea precision y recall, también se mantiene en un nivel competitivo (~0.71), indicando un buen equilibrio en el tratamiento de clases desbalanceadas. Por su parte, AUC-ROC, aunque con una media inferior (~0.59), evidencia una estabilidad apreciable en su variación inter-fold, lo que la posiciona como una métrica complementaria útil para interpretar la capacidad discriminativa del modelo.\n",
    "\n",
    "En conjunto, este gráfico ofrece una perspectiva global y comparativa del rendimiento del modelo, facilitando la identificación de fortalezas métricas clave y validando la elección del enfoque metodológico implementado."
   ]
  },
  {
   "cell_type": "markdown",
   "id": "28da04ed",
   "metadata": {},
   "source": [
    "## 5. Discusión y conclusiones"
   ]
  },
  {
   "cell_type": "markdown",
   "id": "53dced9c",
   "metadata": {},
   "source": [
    "Los resultados obtenidos a lo largo de esta fase experimental permiten realizar un análisis integral sobre el desempeño del modelo aplicado a la tarea de clasificación binaria del sentimiento en reseñas de productos electrónicos en Amazon. En términos generales, se observa un rendimiento consistente entre los distintos folds de validación cruzada, con métricas de accuracy, recall y precision cercanas al 0.79 y desviaciones estándar muy reducidas. Este comportamiento sugiere que el modelo no solo es capaz de generalizar adecuadamente, sino que también mantiene una estabilidad estadística destacable, lo cual es fundamental en problemas de clasificación aplicados a datos reales y desbalanceados.\n",
    "\n",
    "La implementación de la validación cruzada con estrategia k-fold ha sido un elemento clave para garantizar una evaluación robusta y no sesgada del modelo. Dividir los datos en particiones representativas y disjuntas permite simular distintos escenarios de entrenamiento y prueba, evitando sobreajustes específicos a subconjuntos particulares. En este sentido, se cuidó que los folds preservaran las proporciones originales de las clases objetivo y de las variables de caracterización, lo cual es crucial para evitar distorsiones que comprometan la interpretabilidad de los resultados. La elección y correcta ejecución de esta técnica eleva la calidad del análisis y permite conclusiones más confiables sobre la capacidad de generalización del modelo.\n",
    "\n",
    "Asimismo, la visualización de los resultados ha desempeñado un rol fundamental. Gráficos como los de barras, boxplots y barras con desviación estándar han permitido condensar información compleja en representaciones claras, visualmente atractivas y de fácil interpretación, tanto para especialistas como para públicos no técnicos. Esta práctica no solo facilita la identificación de patrones de desempeño y posibles outliers, sino que también permite comunicar hallazgos de forma más efectiva, lo cual es indispensable en contextos colaborativos, interdisciplinares y orientados a toma de decisiones.\n",
    "\n",
    "En conclusión, este entregable no solo ha permitido validar empíricamente un modelo con buen rendimiento para una tarea de clasificación compleja, sino que ha puesto en evidencia la importancia de una metodología rigurosa, del uso de herramientas visuales para análisis, y del cuidado en cada etapa del flujo de trabajo. Como futuros especialistas en inteligencia artificial, es imperativo que reconozcamos que el valor de un modelo no reside únicamente en su precisión, sino también en la forma en que sus resultados se construyen, se interpretan y se comunican. En un mundo guiado cada vez más por datos, la claridad, la transparencia y la capacidad de explicar resultados a audiencias diversas serán habilidades tan esenciales como el conocimiento técnico mismo. Por ello, debemos asumir el compromiso de mantenernos a la vanguardia, pero también de traducir la complejidad en comprensión, y el método en impacto."
   ]
  }
 ],
 "metadata": {
  "kernelspec": {
   "display_name": "act_4_big_data",
   "language": "python",
   "name": "python3"
  },
  "language_info": {
   "codemirror_mode": {
    "name": "ipython",
    "version": 3
   },
   "file_extension": ".py",
   "mimetype": "text/x-python",
   "name": "python",
   "nbconvert_exporter": "python",
   "pygments_lexer": "ipython3",
   "version": "3.12.7"
  }
 },
 "nbformat": 4,
 "nbformat_minor": 5
}
